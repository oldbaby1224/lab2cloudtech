import pandas as pd
import matplotlib.pyplot as plt
import requests
import boto3
import json
from datetime import datetime
import io

# 1. Завантаження JSON з API НБУ
response = requests.get("https://bank.gov.ua/NBUStatService/v1/statdirectory/exchange?json")
data = response.json()

# 2. Збереження JSON у файл
json_file = "exchange.json"
with open(json_file, "w", encoding="utf-8") as f:
    json.dump(data, f, ensure_ascii=False, indent=2)

# 2. Перетворення JSON у CSV
csv_file = "exchange_converted.csv"
df = pd.read_json(json_file)
df.to_csv(csv_file, index=False)

# 3. Завантаження CSV на AWS S3 (ECS IAM роль вже підключена)
bucket_name = "labbucket12"  # Заміни на своє ім'я бакета
s3_key = f"{csv_file}"  # Ключ = назва файлу в бакеті
s3 = boto3.client('s3')  # Клієнт S3, автентифікація автоматично
s3.upload_file(csv_file, bucket_name, s3_key)

# 4. Завантаження файлу з S3 bucket
obj = s3.get_object(Bucket=bucket_name, Key=s3_key)
df = pd.read_csv(io.BytesIO(obj['Body'].read()))

# Data downloading
# df = pd.read_csv("exchange_converted.csv")

# 5. Виділення вмісту про курс з CSV файлу = Table structure checkR
print(df.head())

# 6. Фільтрація даних для отримання валют і курсу = Data filtration for gotten currencies and their rates
df = df[['cc', 'rate']]  # Leaving columns only with currencies and their rates

# 7. Перетворення колонки 'rate' на числовий значення (якщо вони є текстовими) - Transformation of column 'rate' into integer values if they are text value
df['rate'] = pd.to_numeric(df['rate'], errors='coerce')

# 8. Видалення рядків з пустим значенням в колонці 'rate' = Deletion of rows with no values in column 'rate'
df = df.dropna(subset=['rate'])

# 9. Побудова графіка - Graph building
plt.figure(figsize=(20, 10))  # Graph size
bars = plt.bar(df['cc'], df['rate'], color='skyblue')  # Creating bars graph

# 10. Логарифмічна шкала для осі Y - Logarithmic scale of Y axile
plt.yscale('log')

# 11. Додавання числових позначок на стовпці з налаштуваннями - Adding of integer points on columns wit settings
for bar in bars:
    yval = bar.get_height()
    plt.text(bar.get_x() + bar.get_width() / 2, yval + 0.1, f'{yval:.2f}', ha='center', va='bottom', fontsize=10)

# 12. Форматування графіка - Formatting of Graph
plt.xticks(rotation=45)
plt.title("Курс валют 04.05.2025")
plt.xlabel("Валюта")
plt.ylabel("Курс (логарифмічна шкала)")

# 13. Відображення графіка - Displaying of Graph
plt.tight_layout()
plt.show()

# 14. Збереження в пам’ять
image_buffer = io.BytesIO()
plt.savefig(image_buffer, format='png')  # Збереження в буфер у форматі PNG
image_buffer.seek(0)  # Перемотка буфера на початок

# 15. Завантаження на S3
s3_key_image = "exchange_rate_graph.png"  # Назва файлу на S3
s3.upload_fileobj(image_buffer, bucket_name, s3_key_image)
